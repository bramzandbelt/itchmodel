{
 "cells": [
  {
   "cell_type": "code",
   "execution_count": null,
   "metadata": {
    "collapsed": true
   },
   "outputs": [],
   "source": [
    "model_name = \"DDM\"\n",
    "generating_parameterization = 'defer_speedup_time_scaling'\n",
    "counter_parameterization = 'defer_speedup_value_scaling'\n",
    "n_repetition = 2\n",
    "i_dataset = 1"
   ]
  },
  {
   "cell_type": "markdown",
   "metadata": {},
   "source": [
    "# Overview"
   ]
  },
  {
   "cell_type": "markdown",
   "metadata": {},
   "source": [
    "This notebook assesses parameter recovery and model recovery of the intertemporal choice model for assessing time framing effects."
   ]
  },
  {
   "cell_type": "markdown",
   "metadata": {},
   "source": [
    "# Preliminaries"
   ]
  },
  {
   "cell_type": "markdown",
   "metadata": {},
   "source": [
    "## Set libraries and random number generation seed"
   ]
  },
  {
   "cell_type": "markdown",
   "metadata": {},
   "source": [
    "Set library trees"
   ]
  },
  {
   "cell_type": "code",
   "execution_count": null,
   "metadata": {},
   "outputs": [],
   "source": [
    ".libPaths(c(\"/Users/bramzandbelt/surfdrive/projects/BEWITCHING/itchmodel/packrat/lib/x86_64-apple-darwin13.4.0/3.3.3\", \n",
    "            \"/Users/bramzandbelt/surfdrive/projects/BEWITCHING/itchmodel/packrat/lib-ext\",\n",
    "            \"/Users/bramzandbelt/surfdrive/projects/BEWITCHING/itchmodel/packrat/lib-R\"))"
   ]
  },
  {
   "cell_type": "markdown",
   "metadata": {},
   "source": [
    "Load itchmodel package"
   ]
  },
  {
   "cell_type": "code",
   "execution_count": null,
   "metadata": {
    "collapsed": true
   },
   "outputs": [],
   "source": [
    "library(itchmodel)"
   ]
  },
  {
   "cell_type": "markdown",
   "metadata": {},
   "source": [
    "Set state for __random number generation__. This ensures that results can be reproduced."
   ]
  },
  {
   "cell_type": "code",
   "execution_count": null,
   "metadata": {
    "collapsed": true
   },
   "outputs": [],
   "source": [
    "set.seed(19821101)"
   ]
  },
  {
   "cell_type": "markdown",
   "metadata": {},
   "source": [
    "## Define some general variables"
   ]
  },
  {
   "cell_type": "markdown",
   "metadata": {},
   "source": [
    "Make `magrittr`'s __pipe__ accessible from notebook. Pipes enable clear expression of a sequence of multiple operations."
   ]
  },
  {
   "cell_type": "code",
   "execution_count": null,
   "metadata": {
    "collapsed": true
   },
   "outputs": [],
   "source": [
    "\"%>%\" <- magrittr::`%>%`"
   ]
  },
  {
   "cell_type": "markdown",
   "metadata": {},
   "source": [
    "Identify the __project directory__. All paths in the code are relative to it."
   ]
  },
  {
   "cell_type": "code",
   "execution_count": null,
   "metadata": {
    "collapsed": true
   },
   "outputs": [],
   "source": [
    "project_dir <- rprojroot::find_root(rprojroot::has_file(\"DESCRIPTION\"))"
   ]
  },
  {
   "cell_type": "markdown",
   "metadata": {},
   "source": [
    "Define the __name of the notebook__ (`notebook_name`). It is used to save notebook output to a notebook-specific directory."
   ]
  },
  {
   "cell_type": "code",
   "execution_count": null,
   "metadata": {
    "collapsed": true
   },
   "outputs": [],
   "source": [
    "notebook_name <- \"parameter_and_model_recovery\""
   ]
  },
  {
   "cell_type": "markdown",
   "metadata": {},
   "source": [
    "Define some output directories and verify their existence. Optimization statistics obtained in this notebook will be written to a notebook-specific directory inside `optimizations_dir`. If directories do not exist, they are created."
   ]
  },
  {
   "cell_type": "code",
   "execution_count": null,
   "metadata": {
    "collapsed": true
   },
   "outputs": [],
   "source": [
    "optimizations_dir <- file.path(project_dir,\"data\",\"optimizations\")\n",
    "synthetic_data_dir <- file.path(project_dir,\"data\",\"simulations\", \"simulate_synthetic_data_for_parameter_and_model_recovery\") \n",
    "itchmodel::verify_output_dirs(base_dirs = list(optimizations_dir),\n",
    "                              notebook_name = notebook_name)"
   ]
  },
  {
   "cell_type": "markdown",
   "metadata": {},
   "source": [
    "## Define some model variables"
   ]
  },
  {
   "cell_type": "markdown",
   "metadata": {},
   "source": [
    "The __name of the model__ (`model_name`). Currently, only drift diffusion models (DDM) are implemented."
   ]
  },
  {
   "cell_type": "markdown",
   "metadata": {},
   "source": [
    "<br>\n",
    "<div class=\"alert alert-info\">\n",
    "<b> Note </b> <br>\n",
    "```model_name``` is defined in first cell and is parameterized\n",
    "</div>"
   ]
  },
  {
   "cell_type": "markdown",
   "metadata": {},
   "source": [
    "Synthetic data were generated with four model parameterizations: the defer/speedup intertemporal choice data were generated with the `defer_speedup_time_scaling` and `defer_speedup_value_scaling` parameterizations; the date/delay intertemporal choice data were generated with the `date_delay_time_scaling` and `date_delay_value_scaling` parameterizations. We will fit each data with the parameterization that generated the synthetic data set (`generating_parameterization`) and a \"counter-parameterization\"."
   ]
  },
  {
   "cell_type": "markdown",
   "metadata": {},
   "source": [
    "<br>\n",
    "<div class=\"alert alert-info\">\n",
    "<b> Note </b> <br>\n",
    "```generating_parameterization``` and ```counter_parameterization``` are defined in first cell and are parameterized\n",
    "</div>"
   ]
  },
  {
   "cell_type": "markdown",
   "metadata": {},
   "source": [
    "Synthetic data were generated with four levels of repetition: each trial (i.e. a factorial combination of `frame`, `m_s`, `m_l`, `t_s`, and `t_l`) was repeated 2, 3, 4, or 5 times in the experiment (`n_repetition`). Here, we fit the dataset containing `n_repetition` repetitions."
   ]
  },
  {
   "cell_type": "markdown",
   "metadata": {},
   "source": [
    "<br>\n",
    "<div class=\"alert alert-info\">\n",
    "<b> Note </b> <br>\n",
    "```n_repetition``` is defined in first cell and is parameterized\n",
    "</div>"
   ]
  },
  {
   "cell_type": "markdown",
   "metadata": {},
   "source": [
    "A total of 100 synthetic data sets were generated for each combination of model, parameterization, and number of repetitions. Here, we fit the dataset with index `i_dataset`."
   ]
  },
  {
   "cell_type": "markdown",
   "metadata": {},
   "source": [
    "<br>\n",
    "<div class=\"alert alert-info\">\n",
    "<b> Note </b> <br>\n",
    "```i_dataset``` is defined in first cell and is parameterized\n",
    "</div>"
   ]
  },
  {
   "cell_type": "markdown",
   "metadata": {},
   "source": [
    "## Define some optimization variables"
   ]
  },
  {
   "cell_type": "markdown",
   "metadata": {},
   "source": [
    "The __maximum number of iterations__ (`max_iter`) of the optimization algorithm before it should terminate without converging."
   ]
  },
  {
   "cell_type": "code",
   "execution_count": null,
   "metadata": {
    "collapsed": true
   },
   "outputs": [],
   "source": [
    "max_iter <- 20"
   ]
  },
  {
   "cell_type": "markdown",
   "metadata": {},
   "source": [
    "The tolerance (`tol`) specifies the sensitivity of the stopping criterion of the optimization algorithm."
   ]
  },
  {
   "cell_type": "code",
   "execution_count": null,
   "metadata": {
    "collapsed": true
   },
   "outputs": [],
   "source": [
    "tol <- 1e-6"
   ]
  },
  {
   "cell_type": "markdown",
   "metadata": {},
   "source": [
    "The __number of populations per free parameter__ defined the number of candidate solutions in the randomly distributed initial population. Higher numbers increase the likelihood of converging to a global optimum."
   ]
  },
  {
   "cell_type": "code",
   "execution_count": null,
   "metadata": {
    "collapsed": true
   },
   "outputs": [],
   "source": [
    "n_pop_per_free_param <- 20"
   ]
  },
  {
   "cell_type": "markdown",
   "metadata": {},
   "source": [
    "# Load data "
   ]
  },
  {
   "cell_type": "markdown",
   "metadata": {},
   "source": [
    "## Synthetic data"
   ]
  },
  {
   "cell_type": "markdown",
   "metadata": {},
   "source": [
    "Define the file name"
   ]
  },
  {
   "cell_type": "code",
   "execution_count": null,
   "metadata": {
    "collapsed": true
   },
   "outputs": [],
   "source": [
    "fmt_synthetic_data <- \"expt_stimuli_observations_model_%s_parameterization_%s_ix_%d_nrep_%d.csv\"\n",
    "synthetic_data_file <- \n",
    "  sprintf(fmt = fmt_synthetic_data, model_name, generating_parameterization, i_dataset, n_repetition)"
   ]
  },
  {
   "cell_type": "markdown",
   "metadata": {},
   "source": [
    "Load the synthetic data"
   ]
  },
  {
   "cell_type": "code",
   "execution_count": null,
   "metadata": {
    "collapsed": true
   },
   "outputs": [],
   "source": [
    "synthetic_data <- \n",
    "  readr::read_csv(file = file.path(synthetic_data_dir, synthetic_data_file),\n",
    "                  col_types = readr::cols()\n",
    "                  )"
   ]
  },
  {
   "cell_type": "markdown",
   "metadata": {},
   "source": [
    "Put synthetic data in correct format for model fitting"
   ]
  },
  {
   "cell_type": "code",
   "execution_count": null,
   "metadata": {
    "collapsed": true
   },
   "outputs": [],
   "source": [
    "synthetic_data_grpd <- \n",
    "  synthetic_data %>%\n",
    "  dplyr::group_by(frame)\n",
    "\n",
    "stimuli <- \n",
    "  synthetic_data_grpd %>%\n",
    "  dplyr::select(frame, m_s, t_s, m_l, t_l, m_ss_type) %>%\n",
    "  tidyr::nest()\n",
    "\n",
    "observations <- \n",
    "  synthetic_data_grpd %>%\n",
    "  dplyr::select(frame, rt, response) %>%\n",
    "  tidyr::nest()\n",
    "\n",
    "synthetic_data_formatted <- \n",
    "dplyr::left_join(x = stimuli,\n",
    "                 y = observations,\n",
    "                 by = c(\"frame\")\n",
    "                 ) %>%\n",
    "  dplyr::rename(stimuli = data.x,\n",
    "                observations = data.y)"
   ]
  },
  {
   "cell_type": "markdown",
   "metadata": {},
   "source": [
    "## Values of the generating model parameters"
   ]
  },
  {
   "cell_type": "markdown",
   "metadata": {},
   "source": [
    "Define the filename"
   ]
  },
  {
   "cell_type": "code",
   "execution_count": null,
   "metadata": {
    "collapsed": true
   },
   "outputs": [],
   "source": [
    "fmt_params <- \"model_parameters_model_%s_parameterization_%s_ix_%d.csv\"\n",
    "synthetic_params_file <- \n",
    "  sprintf(fmt = fmt_params, model_name, generating_parameterization, i_dataset)"
   ]
  },
  {
   "cell_type": "markdown",
   "metadata": {},
   "source": [
    "Load the parameter values"
   ]
  },
  {
   "cell_type": "code",
   "execution_count": null,
   "metadata": {},
   "outputs": [],
   "source": [
    "(generating_params <- \n",
    "  readr::read_csv(file = file.path(synthetic_data_dir, synthetic_params_file),\n",
    "                  col_types = readr::cols()\n",
    "                  ))"
   ]
  },
  {
   "cell_type": "markdown",
   "metadata": {},
   "source": [
    "# Fit data generating model to synthetic data"
   ]
  },
  {
   "cell_type": "markdown",
   "metadata": {},
   "source": [
    "First, we will fit the dataset with the parameterization that generated the synthetic data (`generating_parameterization`)."
   ]
  },
  {
   "cell_type": "code",
   "execution_count": null,
   "metadata": {},
   "outputs": [],
   "source": [
    "(parameterization <- generating_parameterization)"
   ]
  },
  {
   "cell_type": "markdown",
   "metadata": {},
   "source": [
    "Parameter __lower bounds__ (`lowers`) and __upper bounds__ (`uppers`)"
   ]
  },
  {
   "cell_type": "code",
   "execution_count": null,
   "metadata": {},
   "outputs": [],
   "source": [
    "lowers <- itchmodel::get_par_bounds(model = model_name,\n",
    "                                    parameterization = parameterization,\n",
    "                                    bound = 'lower')\n",
    "uppers <- itchmodel::get_par_bounds(model = model_name,\n",
    "                                    parameterization = parameterization,\n",
    "                                    bound = 'upper')\n",
    "\n",
    "par_names <- itchmodel::get_par_names(model = model_name,\n",
    "                                      parameterization = parameterization)\n",
    "\n",
    "# Show lower and upper parameters\n",
    "lowers_and_uppers <- matrix(rbind(lowers, uppers), ncol = length(par_names))\n",
    "colnames(lowers_and_uppers) <- par_names\n",
    "rownames(lowers_and_uppers) <- c(\"lowers\", \"uppers\")\n",
    "lowers_and_uppers"
   ]
  },
  {
   "cell_type": "markdown",
   "metadata": {},
   "source": [
    "The __number of free parameters__ (`n_free_params`) can be determined by counting the number of parameters for which the lower and upper bounds are identical."
   ]
  },
  {
   "cell_type": "code",
   "execution_count": null,
   "metadata": {
    "collapsed": true
   },
   "outputs": [],
   "source": [
    "n_free_params <- sum(!(lowers == uppers))"
   ]
  },
  {
   "cell_type": "markdown",
   "metadata": {},
   "source": [
    "Fit the model to the data"
   ]
  },
  {
   "cell_type": "code",
   "execution_count": null,
   "metadata": {
    "collapsed": true
   },
   "outputs": [],
   "source": [
    "optim_out_gen_model <- \n",
    "    DEoptimR::JDEoptim(fn = itchmodel::get_log_likelihood, # optimization function\n",
    "                       lower = lowers, # lower bound\n",
    "                       upper = uppers, # upper bound\n",
    "                       constr = itchmodel::get_nonlinear_constraints, # nonlinear constraints\n",
    "                       maxiter = max_iter, # maximum iterations\n",
    "                       tol = tol, # tolerance for the stopping criterion\n",
    "                       NP = n_pop_per_free_param * n_free_params, # number of candidate solutions in the randomly distributed initial population\n",
    "                       trace = TRUE, # whether or not a trace of the iteration progress should be printed\n",
    "                       details = TRUE,\n",
    "                       # Additional arguments passed to fn and constr:\n",
    "                       data = synthetic_data_formatted,\n",
    "                       model = model_name,\n",
    "                       parameterization = parameterization\n",
    "                      )"
   ]
  }
 ],
 "metadata": {
  "celltoolbar": "Raw Cell Format",
  "kernelspec": {
   "display_name": "R",
   "language": "R",
   "name": "ir"
  },
  "language_info": {
   "codemirror_mode": "r",
   "file_extension": ".r",
   "mimetype": "text/x-r-source",
   "name": "R",
   "pygments_lexer": "r",
   "version": "3.3.3"
  }
 },
 "nbformat": 4,
 "nbformat_minor": 1
}
