{
 "cells": [
  {
   "cell_type": "markdown",
   "metadata": {},
   "source": [
    "# Imports"
   ]
  },
  {
   "cell_type": "code",
   "execution_count": 1,
   "metadata": {},
   "outputs": [
    {
     "ename": "ImportError",
     "evalue": "No module named 'nbparameterise'",
     "output_type": "error",
     "traceback": [
      "\u001b[0;31m---------------------------------------------------------------------------\u001b[0m",
      "\u001b[0;31mImportError\u001b[0m                               Traceback (most recent call last)",
      "\u001b[0;32m<ipython-input-1-922dbe6485bf>\u001b[0m in \u001b[0;36m<module>\u001b[0;34m()\u001b[0m\n\u001b[0;32m----> 1\u001b[0;31m \u001b[0;32mfrom\u001b[0m \u001b[0mnbparameterise\u001b[0m \u001b[0;32mimport\u001b[0m \u001b[0mextract_parameters\u001b[0m\u001b[0;34m,\u001b[0m \u001b[0mparameter_values\u001b[0m\u001b[0;34m,\u001b[0m \u001b[0mreplace_definitions\u001b[0m\u001b[0;34m\u001b[0m\u001b[0m\n\u001b[0m\u001b[1;32m      2\u001b[0m \u001b[0;32mimport\u001b[0m \u001b[0mnbformat\u001b[0m\u001b[0;34m\u001b[0m\u001b[0m\n",
      "\u001b[0;31mImportError\u001b[0m: No module named 'nbparameterise'"
     ]
    }
   ],
   "source": [
    "from nbparameterise import extract_parameters, parameter_values, replace_definitions\n",
    "import nbformat"
   ]
  },
  {
   "cell_type": "code",
   "execution_count": null,
   "metadata": {},
   "outputs": [],
   "source": [
    "\n",
    "\n",
    "stock_names = ['YHOO', 'MSFT', 'GOOG']\n",
    "\n",
    "with open(\"Stock display.ipynb\") as f:\n",
    "    nb = nbformat.read(f, as_version=4)\n",
    "\n",
    "orig_parameters = extract_parameters(nb)\n",
    "\n",
    "for name in stock_names:\n",
    "    print(\"Running for stock\", name)\n",
    "\n",
    "    # Update the parameters and run the notebook\n",
    "    params = parameter_values(orig_parameters, stock=name)\n",
    "    new_nb = replace_definitions(nb, params)\n",
    "\n",
    "    # Save\n",
    "    with open(\"Stock display %s.ipynb\" % name, 'w') as f:\n",
    "nbformat.write(new_nb, f)"
   ]
  }
 ],
 "metadata": {
  "kernelspec": {
   "display_name": "Python 3",
   "language": "python",
   "name": "python3"
  },
  "language_info": {
   "codemirror_mode": {
    "name": "ipython",
    "version": 3
   },
   "file_extension": ".py",
   "mimetype": "text/x-python",
   "name": "python",
   "nbconvert_exporter": "python",
   "pygments_lexer": "ipython3",
   "version": "3.4.4"
  }
 },
 "nbformat": 4,
 "nbformat_minor": 1
}
